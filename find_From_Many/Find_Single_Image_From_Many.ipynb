{
 "cells": [
  {
   "cell_type": "code",
   "execution_count": 4,
   "metadata": {},
   "outputs": [],
   "source": [
    "import cv2\n",
    "import numpy as np\n",
    "import imutils\n",
    "import argparse\n"
   ]
  },
  {
   "cell_type": "code",
   "execution_count": 5,
   "metadata": {},
   "outputs": [
    {
     "name": "stderr",
     "output_type": "stream",
     "text": [
      "usage: ipykernel_launcher.py [-h] -p PUZZLE\n",
      "ipykernel_launcher.py: error: the following arguments are required: -p/--puzzle\n"
     ]
    },
    {
     "ename": "SystemExit",
     "evalue": "2",
     "output_type": "error",
     "traceback": [
      "An exception has occurred, use %tb to see the full traceback.\n",
      "\u001b[1;31mSystemExit\u001b[0m\u001b[1;31m:\u001b[0m 2\n"
     ]
    }
   ],
   "source": [
    "# construct the argument parser and parse the arguments\n",
    "ap = argparse.ArgumentParser()\n",
    "ap.add_argument('-p', '--puzzle', required=True, help='Path to puzzle image.')\n",
    "args = vars(ap.parse_args())\n",
    "\n",
    "# load the puzzle and waldo image\n",
    "# puzzle = cv2.imread(args['puzzle'])\n",
    "# waldo = cv2.imread('waldo.jpg')\n",
    "puzzle = cv2.imread(args['puzzle'])\n",
    "img = cv2.imread('sandeep.jpg')\n",
    "waldo = imutils.resize(img, width=min(self.MIN_IMAGE_WIDTH, img.shape[1]))\n",
    "\n",
    "(waldo_height, waldo_width) = waldo.shape[:2]\n",
    "\n",
    "# find waldo in the puzzle\n",
    "# we use correlation coefficient matching method\n",
    "result = cv2.matchTemplate(puzzle, waldo, cv2.TM_CCOEFF)\n",
    "(_, _, min_loc, max_loc) = cv2.minMaxLoc(result)\n",
    "\n",
    "# get roi from puzzle image\n",
    "top_left = max_loc\n",
    "bottom_right = (top_left[0] + waldo_width, top_left[1] + waldo_height)\n",
    "roi = puzzle[top_left[1]:bottom_right[1], top_left[0]:bottom_right[0]]\n",
    "\n",
    "# construct a darkened transparent 'layer'\n",
    "mask = np.zeros(puzzle.shape, dtype='uint8')\n",
    "# mask contributes 75% to the darkened image, addWeighted() adds the transparency effect\n",
    "puzzle = cv2.addWeighted(puzzle, 0.25, mask, 0.75, 0)\n",
    "\n",
    "# put the original waldo back in the image to brighten it\n",
    "puzzle[top_left[1]:bottom_right[1], top_left[0]:bottom_right[0]] = roi\n",
    "\n",
    "# display\n",
    "cv2.imshow('Puzzle', imutils.resize(puzzle, height=650))\n",
    "cv2.imshow('waldo', waldo)\n",
    "cv2.waitKey(0)\n"
   ]
  },
  {
   "cell_type": "code",
   "execution_count": null,
   "metadata": {},
   "outputs": [],
   "source": []
  }
 ],
 "metadata": {
  "kernelspec": {
   "display_name": "Python 3",
   "language": "python",
   "name": "python3"
  },
  "language_info": {
   "codemirror_mode": {
    "name": "ipython",
    "version": 3
   },
   "file_extension": ".py",
   "mimetype": "text/x-python",
   "name": "python",
   "nbconvert_exporter": "python",
   "pygments_lexer": "ipython3",
   "version": "3.7.3"
  }
 },
 "nbformat": 4,
 "nbformat_minor": 2
}
