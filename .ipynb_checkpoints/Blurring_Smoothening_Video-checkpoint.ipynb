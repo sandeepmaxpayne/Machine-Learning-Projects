{
 "cells": [
  {
   "cell_type": "code",
   "execution_count": 3,
   "metadata": {},
   "outputs": [],
   "source": [
    "import cv2\n",
    "import numpy as np\n",
    "\n",
    "cap = cv2.VideoCapture(0)\n",
    "while 1:\n",
    "    _, frame = cap.read()\n",
    "    hsv = cv2.cvtColor(frame, cv2.COLOR_BGR2HSV)  # RGB to HSB\n",
    "  \n",
    "    lower_red = np.array([95, 98, 87]) # pixel range H S V\n",
    "    upper_red = np.array([117, 130, 120])\n",
    "  \n",
    "    mask = cv2.inRange(hsv, lower_red, upper_red)  # inRange filter image by color\n",
    "    res = cv2.bitwise_and(frame, frame, mask = mask)\n",
    "    kernel = np.ones((15,15), np.float32)/225\n",
    "    smoothed = cv2.filter2D(res, -1, kernel) # lowpass filter (remove noise), highpass filter (remove blurring)\n",
    "    median = cv2.medianBlur(res, 9)\n",
    "    blur = cv2.GaussianBlur(res, (5,5), 0) # capture the image surface excluding background\n",
    "  \n",
    "    cv2.imshow('frame', frame)\n",
    "    cv2.imshow('hsv', hsv)\n",
    "    cv2.imshow('res', res)\n",
    "    cv2.imshow('Averaging', smoothed)\n",
    "    cv2.imshow('median', median)\n",
    "    cv2.imshow('Gaussian', blur)\n",
    "  \n",
    "    if cv2.waitKey(1) & 0xFF == ord('q'):\n",
    "        break\n",
    "cv2.destroyAllWindows()\n",
    "cap.release()"
   ]
  },
  {
   "cell_type": "code",
   "execution_count": null,
   "metadata": {},
   "outputs": [],
   "source": []
  }
 ],
 "metadata": {
  "kernelspec": {
   "display_name": "Python 3",
   "language": "python",
   "name": "python3"
  },
  "language_info": {
   "codemirror_mode": {
    "name": "ipython",
    "version": 3
   },
   "file_extension": ".py",
   "mimetype": "text/x-python",
   "name": "python",
   "nbconvert_exporter": "python",
   "pygments_lexer": "ipython3",
   "version": "3.7.3"
  }
 },
 "nbformat": 4,
 "nbformat_minor": 2
}
