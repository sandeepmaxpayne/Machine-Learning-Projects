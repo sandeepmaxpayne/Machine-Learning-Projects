{
 "cells": [
  {
   "cell_type": "code",
   "execution_count": 1,
   "metadata": {},
   "outputs": [],
   "source": [
    "import numpy as np\n",
    "import cv2"
   ]
  },
  {
   "cell_type": "code",
   "execution_count": 2,
   "metadata": {},
   "outputs": [],
   "source": [
    "#1. face detection\n",
    "\n",
    "face_cascade = cv2.CascadeClassifier(\"C:/Users/Sandeep/Desktop/DIATM_Machine_Learning/cascades/haarcascade_frontalface_default.xml\")\n",
    "\n",
    "cap = cv2.VideoCapture(0)\n",
    "\n",
    "text = \"Face Detected\"\n",
    "\n",
    "while 1:\n",
    "    ret, img = cap.read()\n",
    "    gray = cv2.cvtColor(img, cv2.COLOR_BGR2GRAY)\n",
    "    faces = face_cascade.detectMultiScale(gray, 1.3, 5)\n",
    "  \n",
    "    for(x,y,w,h) in faces:\n",
    "        cv2.rectangle(img, (x,y), (x+w,y+h), (255,0,0), 2)\n",
    "        cv2.putText(img, text, (x,h), cv2.FONT_HERSHEY_SIMPLEX, 1.0, (255,255,255), lineType=cv2.LINE_AA)\n",
    "    \n",
    "    cv2.imshow('Face Detect', img)\n",
    "    if cv2.waitKey(1) & 0xFF == ord('q'):\n",
    "        break\n",
    "cv2.destroyAllWindows()\n",
    "cap.release()"
   ]
  },
  {
   "cell_type": "code",
   "execution_count": 3,
   "metadata": {},
   "outputs": [],
   "source": [
    "#2 Eye Detection\n",
    "\n",
    "face_cascade = cv2.CascadeClassifier(\"C:/Users/Sandeep/Desktop/DIATM_Machine_Learning/cascades/haarcascade_frontalface_default.xml\")\n",
    "eye_cascade = cv2.CascadeClassifier(\"C:/Users\\Sandeep/Desktop/DIATM_Machine_Learning/cascades/haarcascade_eye.xml\")\n",
    "cap = cv2.VideoCapture(0)\n",
    "\n",
    "text = \"Face Detected\"\n",
    "text1 = \"eye Detected\"\n",
    "text3 = \"Smile\"\n",
    "\n",
    "while 1:\n",
    "    ret, img = cap.read()\n",
    "    gray = cv2.cvtColor(img, cv2.COLOR_BGR2GRAY)\n",
    "    faces = face_cascade.detectMultiScale(gray, 1.5, 5)\n",
    " \n",
    "    for(x,y,w,h) in faces:\n",
    "        cv2.rectangle(img, (x,y), (x+w,y+h), (255,0,0), 2)\n",
    "        roi_gray = gray[y:y+h, x:x+w]\n",
    "        roi_color = img[y:y+h, x:x+w]\n",
    "        cv2.putText(img, text, (x,y), cv2.FONT_HERSHEY_SIMPLEX, 1.0, (255,255,255), lineType=cv2.LINE_AA)\n",
    "        eyes = eye_cascade.detectMultiScale(roi_color)\n",
    "        for(a,b,c,d) in eyes:\n",
    "            cv2.rectangle(roi_color, (a,b), (a+c,b+d), (0,255,0), 2)\n",
    "           # cv2.putText(roi_color, text1, (a,b), cv2.FONT_HERSHEY_SIMPLEX, 1.0, (255,255,255), lineType=cv2.LINE_AA)\n",
    "     \n",
    "    \n",
    "    \n",
    "    cv2.imshow('Face And Eyes', img)\n",
    "    if cv2.waitKey(1) & 0xFF == ord('q'):\n",
    "        break\n",
    "cv2.destroyAllWindows()\n",
    "cap.release()"
   ]
  },
  {
   "cell_type": "code",
   "execution_count": 4,
   "metadata": {},
   "outputs": [],
   "source": [
    "#2 Smile Detection\n",
    "\n",
    "face_cascade = cv2.CascadeClassifier(\"C:/Users/Sandeep/Desktop/DIATM_Machine_Learning/cascades/haarcascade_frontalface_default.xml\")\n",
    "eye_cascade = cv2.CascadeClassifier(\"C:/Users\\Sandeep/Desktop/DIATM_Machine_Learning/cascades/haarcascade_eye.xml\")\n",
    "smile_cascade = cv2.CascadeClassifier(\"C:/Users/Sandeep/Desktop/DIATM_Machine_Learning/cascades/haarcascade_smile1.xml\")\n",
    "cap = cv2.VideoCapture(0)\n",
    "\n",
    "text = \"Face Detected\"\n",
    "text1 = \"eye Detected\"\n",
    "text3 = \"Smile\"\n",
    "\n",
    "while 1:\n",
    "    ret, img = cap.read()\n",
    "    gray = cv2.cvtColor(img, cv2.COLOR_BGR2GRAY)\n",
    "    faces = face_cascade.detectMultiScale(gray, 1.5, 5)\n",
    " \n",
    "    for(x,y,w,h) in faces:\n",
    "        cv2.rectangle(img, (x,y), (x+w,y+h), (255,0,0), 2)\n",
    "        roi_gray = gray[y:y+h, x:x+w]\n",
    "        roi_color = img[y:y+h, x:x+w]\n",
    "        cv2.putText(img, text, (x,y), cv2.FONT_HERSHEY_SIMPLEX, 1.0, (255,255,255), lineType=cv2.LINE_AA)\n",
    "        eyes = eye_cascade.detectMultiScale(roi_color)\n",
    "          \n",
    "        for(a,b,c,d) in eyes:\n",
    "            cv2.rectangle(roi_color, (a,b), (a+c,b+d), (0,255,0), 2)\n",
    "           # cv2.putText(roi_color, text2, (a,b), cv2.FONT_HERSHEY_SIMPLEX, 1.0, (255,255,255), lineType=cv2.LINE_AA)\n",
    "      \n",
    "        smile = smile_cascade.detectMultiScale(roi_gray, 1.8, 20)\n",
    "        for(p,q,r,s) in smile:\n",
    "            cv2.rectangle(roi_color, (p,q), (p+r,q+s), (0,0,255),2)\n",
    "            cv2.putText(roi_color, text3, (a,b), cv2.FONT_HERSHEY_SIMPLEX, 1.0, (255,255,255), lineType=cv2.LINE_AA)\n",
    "     \n",
    "    \n",
    "    \n",
    "    cv2.imshow('Face, Eye and Smile', img)\n",
    "    if cv2.waitKey(1) & 0xFF == ord('q'):\n",
    "        break\n",
    "cv2.destroyAllWindows()\n",
    "cap.release()"
   ]
  },
  {
   "cell_type": "code",
   "execution_count": null,
   "metadata": {},
   "outputs": [],
   "source": []
  }
 ],
 "metadata": {
  "kernelspec": {
   "display_name": "Python 3",
   "language": "python",
   "name": "python3"
  },
  "language_info": {
   "codemirror_mode": {
    "name": "ipython",
    "version": 3
   },
   "file_extension": ".py",
   "mimetype": "text/x-python",
   "name": "python",
   "nbconvert_exporter": "python",
   "pygments_lexer": "ipython3",
   "version": "3.7.3"
  }
 },
 "nbformat": 4,
 "nbformat_minor": 2
}
