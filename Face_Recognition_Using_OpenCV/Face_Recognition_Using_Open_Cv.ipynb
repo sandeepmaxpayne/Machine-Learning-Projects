{
 "cells": [
  {
   "cell_type": "code",
   "execution_count": 1,
   "metadata": {},
   "outputs": [],
   "source": [
    "from PIL import Image"
   ]
  },
  {
   "cell_type": "code",
   "execution_count": 4,
   "metadata": {},
   "outputs": [],
   "source": [
    "import cv2\n",
    "\n",
    "cam = cv2.VideoCapture(0)\n",
    "detector = cv2.CascadeClassifier(\"cascades/haarcascade_frontalface_default.xml\")\n",
    "sampleNum = 0\n",
    "Id = 1\n",
    "while True:\n",
    "    ret, img = cam.read()\n",
    "    gray = cv2.cvtColor(img, cv2.COLOR_BGR2GRAY)\n",
    "    faces = detector.detectMultiScale(gray, 1.3, 5)\n",
    "    for (x, y, w, h) in faces:\n",
    "        cv2.rectangle(img, (x, y), (x + w, y + h), (255, 0, 0), 2)\n",
    "\n",
    "        # incrementing sample number\n",
    "        sampleNum = sampleNum + 1\n",
    "        # saving the captured face in the dataset folder\n",
    "        cv2.imwrite(\"C:/Users/Sandeep/Desktop/DIATM_Machine_Learning/Face_Recognition_Using_OpenCV/dataset/User.\" + str(Id) + '.' + str(sampleNum) + \".jpg\", gray[y:y + h, x:x + w])\n",
    "\n",
    "        cv2.putText(img, str(sampleNum), (x, y), cv2.FONT_HERSHEY_SIMPLEX, 2, (0, 255, 0), 2)\n",
    "        cv2.imshow('frame', img)\n",
    "    # wait for 100 miliseconds\n",
    "\n",
    "    if cv2.waitKey(1000) & 0xFF == ord('q'):\n",
    "        break\n",
    "    # break if the sample number is morethan 20\n",
    "    elif sampleNum > 30:\n",
    "        break\n",
    "cam.release()\n",
    "cv2.destroyAllWindows()"
   ]
  },
  {
   "cell_type": "code",
   "execution_count": 6,
   "metadata": {},
   "outputs": [
    {
     "name": "stdout",
     "output_type": "stream",
     "text": [
      "[1, 1, 1, 1, 1, 1, 1, 1, 1, 1, 1, 1, 1, 1, 1, 1, 1, 1, 1, 1, 1, 1, 1, 1, 1, 1, 1]\n"
     ]
    }
   ],
   "source": [
    "import cv2\n",
    "import os\n",
    "import numpy as np\n",
    "from PIL import Image\n",
    "\n",
    "recognizer = cv2.face_LBPHFaceRecognizer.create()\n",
    "\n",
    "detector = cv2.CascadeClassifier(\"cascades/haarcascade_frontalface_default.xml\")\n",
    "\n",
    "\n",
    "def getImagesAndLabels(path):\n",
    "    # get the path of all the files in the folder\n",
    "    imagePaths = [os.path.join(path, f) for f in os.listdir(path)]\n",
    "    # create empth face list\n",
    "    faceSamples = []\n",
    "    Ids = []\n",
    "    for imagePath in imagePaths:\n",
    "        # loading the image and converting it to gray scale\n",
    "        pilImage = Image.open(imagePath).convert('L')\n",
    "        # Now we are converting the PIL image into numpy array\n",
    "        imageNp = np.array(pilImage, 'uint8')\n",
    "        # getting the Id from the image\n",
    "        Id = int(os.path.split(imagePath)[-1].split(\".\")[1])\n",
    "        # extract the face from the training image sample\n",
    "        faces = detector.detectMultiScale(imageNp)\n",
    "        # If a face is there then append that in the list as well as Id of it\n",
    "        for (x, y, w, h) in faces:\n",
    "            faceSamples.append(imageNp[y:y + h, x:x + w])\n",
    "            Ids.append(Id)\n",
    "    return faceSamples, Ids\n",
    "\n",
    "\n",
    "faces, Ids = getImagesAndLabels('C:/Users/Sandeep/Desktop/DIATM_Machine_Learning/Face_Recognition_Using_OpenCV/dataset')\n",
    "recognizer.train(faces, np.array(Ids))\n",
    "recognizer.save('C:/Users/Sandeep/Desktop/DIATM_Machine_Learning/Face_Recognition_Using_OpenCV/trainer/trainer.yml')\n",
    "print(Ids)\n"
   ]
  },
  {
   "cell_type": "code",
   "execution_count": 9,
   "metadata": {},
   "outputs": [
    {
     "name": "stdout",
     "output_type": "stream",
     "text": [
      "enter your namesandeep dutta\n",
      "51.048664792107765\n",
      "1\n",
      "48.91509126953344\n",
      "1\n",
      "49.61822402367023\n",
      "1\n",
      "54.54200590080326\n",
      "1\n",
      "55.39661315182733\n",
      "1\n",
      "57.16912628371046\n",
      "1\n",
      "60.4181640661247\n",
      "1\n",
      "65.71864200669023\n",
      "1\n"
     ]
    }
   ],
   "source": [
    "import cv2\n",
    "import numpy as np\n",
    "\n",
    "name = input(\"enter your name\")\n",
    "\n",
    "recognizer = cv2.face_LBPHFaceRecognizer.create()\n",
    "recognizer.read('C:/Users/Sandeep/Desktop/DIATM_Machine_Learning/Face_Recognition_Using_OpenCV/trainer/trainer.yml')\n",
    "cascadePath = (\"cascades/haarcascade_frontalface_default.xml\")\n",
    "faceCascade = cv2.CascadeClassifier(cascadePath);\n",
    "\n",
    "cam = cv2.VideoCapture(0)\n",
    "# font = cv2.InitFont(cv2.FONT_HERSHEY_SIMPLEX, 1, 1, 0, 1, 1)\n",
    "# font = cv2.FONT_HERSHEY_SIMPLEX\n",
    "# fontscale = 1\n",
    "# fontcolor = (255, 255, 255)\n",
    "# cv2.putText(im, str(Id), (x,y+h), fontface, fontscale, fontcolor)\n",
    "while True:\n",
    "    ret, im = cam.read()\n",
    "    gray = cv2.cvtColor(im, cv2.COLOR_BGR2GRAY)\n",
    "    faces = faceCascade.detectMultiScale(gray, 1.2, 5)\n",
    "    for (x, y, w, h) in faces:\n",
    "        cv2.rectangle(im, (x, y), (x + w, y + h), (225, 0, 0), 2)\n",
    "        Id, conf = recognizer.predict(gray[y:y + h, x:x + w])\n",
    "        print(conf)\n",
    "        print(Id)\n",
    "        if conf < 65:\n",
    "            if Id == 1:\n",
    "                Id1 = name\n",
    "        else:\n",
    "            Id1 = \"Unknown\"\n",
    "        cv2.putText(im, str(Id1), (x, y + h), cv2.FONT_HERSHEY_SIMPLEX, 2, (0, 255, 0), 2)\n",
    "    cv2.imshow('im', im)\n",
    "    if cv2.waitKey(10) & 0xFF == ord('q'):\n",
    "        break\n",
    "cam.release()\n",
    "cv2.destroyAllWindows()\n"
   ]
  },
  {
   "cell_type": "code",
   "execution_count": null,
   "metadata": {},
   "outputs": [],
   "source": []
  }
 ],
 "metadata": {
  "kernelspec": {
   "display_name": "Python 3",
   "language": "python",
   "name": "python3"
  },
  "language_info": {
   "codemirror_mode": {
    "name": "ipython",
    "version": 3
   },
   "file_extension": ".py",
   "mimetype": "text/x-python",
   "name": "python",
   "nbconvert_exporter": "python",
   "pygments_lexer": "ipython3",
   "version": "3.7.3"
  }
 },
 "nbformat": 4,
 "nbformat_minor": 2
}
